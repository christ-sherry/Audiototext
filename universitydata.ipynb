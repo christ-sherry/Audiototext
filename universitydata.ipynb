{
  "nbformat": 4,
  "nbformat_minor": 0,
  "metadata": {
    "colab": {
      "provenance": [],
      "authorship_tag": "ABX9TyNPdMQm973LxVsmaC74l6VN",
      "include_colab_link": true
    },
    "kernelspec": {
      "name": "python3",
      "display_name": "Python 3"
    },
    "language_info": {
      "name": "python"
    }
  },
  "cells": [
    {
      "cell_type": "markdown",
      "metadata": {
        "id": "view-in-github",
        "colab_type": "text"
      },
      "source": [
        "<a href=\"https://colab.research.google.com/github/christ-sherry/Audiototext/blob/main/universitydata.ipynb\" target=\"_parent\"><img src=\"https://colab.research.google.com/assets/colab-badge.svg\" alt=\"Open In Colab\"/></a>"
      ]
    },
    {
      "cell_type": "code",
      "execution_count": null,
      "metadata": {
        "id": "IyUU_Wa1sjsl"
      },
      "outputs": [],
      "source": [
        "import pandas as pd"
      ]
    },
    {
      "cell_type": "code",
      "source": [
        "!pip install PyPDF2 pandas"
      ],
      "metadata": {
        "colab": {
          "base_uri": "https://localhost:8080/"
        },
        "id": "abGAd8MDsvrU",
        "outputId": "96a7d3c5-1a2b-4952-9758-4c21f40c0b44"
      },
      "execution_count": null,
      "outputs": [
        {
          "output_type": "stream",
          "name": "stdout",
          "text": [
            "Collecting PyPDF2\n",
            "  Downloading pypdf2-3.0.1-py3-none-any.whl.metadata (6.8 kB)\n",
            "Requirement already satisfied: pandas in /usr/local/lib/python3.11/dist-packages (2.2.2)\n",
            "Requirement already satisfied: numpy>=1.23.2 in /usr/local/lib/python3.11/dist-packages (from pandas) (1.26.4)\n",
            "Requirement already satisfied: python-dateutil>=2.8.2 in /usr/local/lib/python3.11/dist-packages (from pandas) (2.8.2)\n",
            "Requirement already satisfied: pytz>=2020.1 in /usr/local/lib/python3.11/dist-packages (from pandas) (2025.1)\n",
            "Requirement already satisfied: tzdata>=2022.7 in /usr/local/lib/python3.11/dist-packages (from pandas) (2025.1)\n",
            "Requirement already satisfied: six>=1.5 in /usr/local/lib/python3.11/dist-packages (from python-dateutil>=2.8.2->pandas) (1.17.0)\n",
            "Downloading pypdf2-3.0.1-py3-none-any.whl (232 kB)\n",
            "\u001b[?25l   \u001b[90m━━━━━━━━━━━━━━━━━━━━━━━━━━━━━━━━━━━━━━━━\u001b[0m \u001b[32m0.0/232.6 kB\u001b[0m \u001b[31m?\u001b[0m eta \u001b[36m-:--:--\u001b[0m\r\u001b[2K   \u001b[91m━━━━━━━━━━━━━━━━━━━━━━━━━━━━━━━\u001b[0m\u001b[91m╸\u001b[0m\u001b[90m━━━━━━━━\u001b[0m \u001b[32m184.3/232.6 kB\u001b[0m \u001b[31m5.3 MB/s\u001b[0m eta \u001b[36m0:00:01\u001b[0m\r\u001b[2K   \u001b[90m━━━━━━━━━━━━━━━━━━━━━━━━━━━━━━━━━━━━━━━━\u001b[0m \u001b[32m232.6/232.6 kB\u001b[0m \u001b[31m4.4 MB/s\u001b[0m eta \u001b[36m0:00:00\u001b[0m\n",
            "\u001b[?25hInstalling collected packages: PyPDF2\n",
            "Successfully installed PyPDF2-3.0.1\n"
          ]
        }
      ]
    },
    {
      "cell_type": "code",
      "source": [
        "import PyPDF2"
      ],
      "metadata": {
        "id": "rquHsgBJs7RF"
      },
      "execution_count": null,
      "outputs": []
    },
    {
      "cell_type": "code",
      "source": [
        "from google.colab import drive"
      ],
      "metadata": {
        "id": "DzqdvkSJs_Uu"
      },
      "execution_count": null,
      "outputs": []
    },
    {
      "cell_type": "code",
      "source": [
        "import os"
      ],
      "metadata": {
        "id": "NB5DWKtNtW-t"
      },
      "execution_count": null,
      "outputs": []
    },
    {
      "cell_type": "code",
      "source": [
        "# Mount Google Drive\n",
        "drive.mount('/content/drive')"
      ],
      "metadata": {
        "colab": {
          "base_uri": "https://localhost:8080/"
        },
        "id": "Nlu32ARXtaRU",
        "outputId": "4edb8c31-e73b-42af-ce5a-4bdd44a50c1e"
      },
      "execution_count": null,
      "outputs": [
        {
          "output_type": "stream",
          "name": "stdout",
          "text": [
            "Mounted at /content/drive\n"
          ]
        }
      ]
    },
    {
      "cell_type": "code",
      "source": [
        "# Path to the PDF file in Google Drive\n",
        "pdf_file = '/content/drive/My Drive/Status_of_University_Data_2022-2023.pdf'"
      ],
      "metadata": {
        "id": "1wADSwWGtiFj"
      },
      "execution_count": null,
      "outputs": []
    },
    {
      "cell_type": "code",
      "source": [
        "import re"
      ],
      "metadata": {
        "id": "NScI3QJYuQZj"
      },
      "execution_count": null,
      "outputs": []
    },
    {
      "cell_type": "code",
      "source": [
        "if not os.path.exists(pdf_file):\n",
        "    print(f\"Error: The file '{pdf_file}' was not found in Google Drive. Please verify the path.\")\n",
        "else:\n",
        "    with open(pdf_file, 'rb') as file:\n",
        "        reader = PyPDF2.PdfReader(file)\n",
        "        extracted_text = \"\"\n",
        "        for page_num in range(29, 33):  # Pages are zero-based\n",
        "            page = reader.pages[page_num]\n",
        "            extracted_text += page.extract_text() or \"\"\n",
        "\n",
        "    lines = extracted_text.strip().split('\\n')\n",
        "\n",
        "  # Updated columns to include Postgraduate and Total Student Count\n",
        "    columns = ['University', 'Bachelors', 'Masters', 'Doctorate', 'Postgraduate', 'Total Student Count']\n",
        "    data = []\n",
        "\n",
        "    pattern = re.compile(r'([A-Za-z ]+)\\s+(\\d+)\\s*(\\d+)?\\s*(\\d+)?\\s*(\\d+)?')\n",
        "    for line in lines:\n",
        "        match = pattern.match(line)\n",
        "        if match:\n",
        "            university, bachelors, masters, doctorate, postgraduate = match.groups()\n",
        "            bachelors = int(bachelors)\n",
        "            masters = int(masters) if masters else 0\n",
        "            doctorate = int(doctorate) if doctorate else 0\n",
        "            postgraduate = int(postgraduate) if postgraduate else 0\n",
        "            total_students = bachelors + masters + doctorate + postgraduate\n",
        "            data.append([university.strip(), bachelors, masters, doctorate, postgraduate, total_students])"
      ],
      "metadata": {
        "id": "DrUSDtCuuRPL"
      },
      "execution_count": null,
      "outputs": []
    },
    {
      "cell_type": "code",
      "source": [
        "# Convert to DataFrame and save to Drive\n",
        "df = pd.DataFrame(data, columns=columns)\n",
        "output_file = '/content/drive/My Drive/finuniversity_data_pages_30_33.xlsx'\n",
        "df.to_excel(output_file, index=False)\n",
        "\n",
        "print(f'Data extracted and saved to {output_file} in Google Drive.')\n",
        "\n"
      ],
      "metadata": {
        "colab": {
          "base_uri": "https://localhost:8080/"
        },
        "id": "MIcSXhJOuWTk",
        "outputId": "fce362f3-254a-4c13-f661-40c44679ec5a"
      },
      "execution_count": null,
      "outputs": [
        {
          "output_type": "stream",
          "name": "stdout",
          "text": [
            "Data extracted and saved to /content/drive/My Drive/finuniversity_data_pages_30_33.xlsx in Google Drive.\n"
          ]
        }
      ]
    },
    {
      "cell_type": "code",
      "source": [
        "if not os.path.exists(pdf_file):\n",
        "    print(f\"Error: The file '{pdf_file}' was not found in Google Drive. Please verify the path.\")\n",
        "else:\n",
        "    with open(pdf_file, 'rb') as file:\n",
        "        reader = PyPDF2.PdfReader(file)\n",
        "        extracted_text = \"\"\n",
        "        for page_num in range(29, 33):  # Pages are zero-based\n",
        "            page = reader.pages[page_num]\n",
        "            extracted_text += page.extract_text() or \"\"\n",
        "\n",
        "    lines = extracted_text.strip().split('\\n')\n",
        "    columns = ['University', 'Enrolled Students', 'Graduates', 'Year']  # Adjust columns as needed\n",
        "\n",
        "    data = []\n",
        "    for line in lines:\n",
        "        parts = line.split()\n",
        "        if len(parts) >= 4:\n",
        "            data.append(parts[:4])"
      ],
      "metadata": {
        "id": "SjibUYHUtljt"
      },
      "execution_count": null,
      "outputs": []
    },
    {
      "cell_type": "code",
      "source": [
        " # Convert to DataFrame and save to Drive\n",
        "df = pd.DataFrame(data, columns=columns)\n",
        "output_file = '/content/drive/My Drive/university_data_pages_30_33.xlsx'\n",
        "df.to_excel(output_file, index=False)\n",
        "\n",
        "print(f'Data extracted and saved to {output_file} in Google Drive.')"
      ],
      "metadata": {
        "colab": {
          "base_uri": "https://localhost:8080/"
        },
        "id": "IC8N3m_5tsj_",
        "outputId": "866bf4d4-1172-4ccc-e9c5-7969d728a011"
      },
      "execution_count": null,
      "outputs": [
        {
          "output_type": "stream",
          "name": "stdout",
          "text": [
            "Data extracted and saved to /content/drive/My Drive/university_data_pages_30_33.xlsx in Google Drive.\n"
          ]
        }
      ]
    },
    {
      "cell_type": "code",
      "source": [
        "# Install necessary packages if not already installed\n",
        "!pip install PyPDF2 pandas numpy matplotlib\n",
        "\n",
        "import PyPDF2\n",
        "import pandas as pd\n",
        "import numpy as np\n",
        "import matplotlib.pyplot as plt\n",
        "from google.colab import drive\n",
        "import os\n",
        "import re\n",
        "\n",
        "# Mount Google Drive\n",
        "drive.mount('/content/drive')\n",
        "\n",
        "# Path to the PDF file in Google Drive\n",
        "pdf_file = '/content/drive/My Drive/Status_of_University_Data_2022-2023.pdf'\n",
        "\n",
        "if not os.path.exists(pdf_file):\n",
        "    print(f\"Error: The file '{pdf_file}' was not found in Google Drive. Please verify the path.\")\n",
        "else:\n",
        "    with open(pdf_file, 'rb') as file:\n",
        "        reader = PyPDF2.PdfReader(file)\n",
        "        extracted_text = \"\"\n",
        "        for page_num in range(29, 33):\n",
        "            page = reader.pages[page_num]\n",
        "            extracted_text += page.extract_text() or \"\"\n",
        "\n",
        "    lines = extracted_text.strip().split('\\n')\n",
        "\n",
        "    columns = ['University', 'Bachelors', 'Masters', 'Doctorate', 'Postgraduate', 'Total Student Count', 'Forecasted 2025 Population']\n",
        "    data = []\n",
        "\n",
        "    pattern = re.compile(r'([A-Za-z ]+)\\s+(\\d+)\\s*(\\d+)?\\s*(\\d+)?\\s*(\\d+)?')\n",
        "    for line in lines:\n",
        "        match = pattern.match(line)\n",
        "        if match:\n",
        "            university, bachelors, masters, doctorate, postgraduate = match.groups()\n",
        "            bachelors = int(bachelors)\n",
        "            masters = int(masters) if masters else 0\n",
        "            doctorate = int(doctorate) if doctorate else 0\n",
        "            postgraduate = int(postgraduate) if postgraduate else 0\n",
        "            total_students = bachelors + masters + doctorate + postgraduate\n",
        "\n",
        "            # Forecasted population for 2025 per university (based on average duration)\n",
        "            avg_duration = 4  # Average duration in years\n",
        "            annual_growth_rate = 0.05  # 5% annual growth\n",
        "            years = 2025 - 2023\n",
        "            forecasted_population = total_students * avg_duration * ((1 + annual_growth_rate) ** years)\n",
        "\n",
        "            data.append([university.strip(), bachelors, masters, doctorate, postgraduate, total_students, int(forecasted_population)])\n",
        "\n",
        "    df = pd.DataFrame(data, columns=columns)\n",
        "\n",
        "    # Save the results to Google Drive\n",
        "    output_file = '/content/drive/My Drive/zap2university_data_forecast_2025.xlsx'\n",
        "    df.to_excel(output_file, index=False)\n",
        "    print(f\"Data with forecasted population saved to {output_file}\")\n"
      ],
      "metadata": {
        "id": "MfKV2wgH5790",
        "outputId": "6e656f68-702c-4d44-cea6-326cc13eb431",
        "colab": {
          "base_uri": "https://localhost:8080/"
        }
      },
      "execution_count": null,
      "outputs": [
        {
          "output_type": "stream",
          "name": "stdout",
          "text": [
            "Collecting PyPDF2\n",
            "  Downloading pypdf2-3.0.1-py3-none-any.whl.metadata (6.8 kB)\n",
            "Requirement already satisfied: pandas in /usr/local/lib/python3.11/dist-packages (2.2.2)\n",
            "Requirement already satisfied: numpy in /usr/local/lib/python3.11/dist-packages (1.26.4)\n",
            "Requirement already satisfied: matplotlib in /usr/local/lib/python3.11/dist-packages (3.10.0)\n",
            "Requirement already satisfied: python-dateutil>=2.8.2 in /usr/local/lib/python3.11/dist-packages (from pandas) (2.8.2)\n",
            "Requirement already satisfied: pytz>=2020.1 in /usr/local/lib/python3.11/dist-packages (from pandas) (2025.1)\n",
            "Requirement already satisfied: tzdata>=2022.7 in /usr/local/lib/python3.11/dist-packages (from pandas) (2025.1)\n",
            "Requirement already satisfied: contourpy>=1.0.1 in /usr/local/lib/python3.11/dist-packages (from matplotlib) (1.3.1)\n",
            "Requirement already satisfied: cycler>=0.10 in /usr/local/lib/python3.11/dist-packages (from matplotlib) (0.12.1)\n",
            "Requirement already satisfied: fonttools>=4.22.0 in /usr/local/lib/python3.11/dist-packages (from matplotlib) (4.56.0)\n",
            "Requirement already satisfied: kiwisolver>=1.3.1 in /usr/local/lib/python3.11/dist-packages (from matplotlib) (1.4.8)\n",
            "Requirement already satisfied: packaging>=20.0 in /usr/local/lib/python3.11/dist-packages (from matplotlib) (24.2)\n",
            "Requirement already satisfied: pillow>=8 in /usr/local/lib/python3.11/dist-packages (from matplotlib) (11.1.0)\n",
            "Requirement already satisfied: pyparsing>=2.3.1 in /usr/local/lib/python3.11/dist-packages (from matplotlib) (3.2.1)\n",
            "Requirement already satisfied: six>=1.5 in /usr/local/lib/python3.11/dist-packages (from python-dateutil>=2.8.2->pandas) (1.17.0)\n",
            "Downloading pypdf2-3.0.1-py3-none-any.whl (232 kB)\n",
            "\u001b[2K   \u001b[90m━━━━━━━━━━━━━━━━━━━━━━━━━━━━━━━━━━━━━━━━\u001b[0m \u001b[32m232.6/232.6 kB\u001b[0m \u001b[31m6.2 MB/s\u001b[0m eta \u001b[36m0:00:00\u001b[0m\n",
            "\u001b[?25hInstalling collected packages: PyPDF2\n",
            "Successfully installed PyPDF2-3.0.1\n",
            "Mounted at /content/drive\n",
            "Data with forecasted population saved to /content/drive/My Drive/zap2university_data_forecast_2025.xlsx\n"
          ]
        }
      ]
    }
  ]
}